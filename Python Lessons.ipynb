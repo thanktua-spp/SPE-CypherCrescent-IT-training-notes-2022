{
 "cells": [
  {
   "cell_type": "markdown",
   "id": "462d5c15-ba9e-4c9b-b88c-5f6f896a2eb9",
   "metadata": {},
   "source": [
    "# Lesson 01 \n",
    "##### 05.04.22"
   ]
  },
  {
   "cell_type": "markdown",
   "id": "3e81eb43-093c-431a-81d0-e17b4358c672",
   "metadata": {
    "tags": []
   },
   "source": [
    "# Operators in python / Errors and Debugging / Types\n",
    "\n",
    "- Addition (+)\n",
    "- Subtraction (-)\n",
    "- Multiplication (*)\n",
    "- Division\n",
    "-- Float division (/)\n",
    "-- Integer division (//)\n",
    "-- Modulus (%)\n",
    "- Exponentiation (**)"
   ]
  },
  {
   "cell_type": "code",
   "execution_count": 4,
   "id": "eda11bca-050b-4e7e-88cb-e3c72b3e7dea",
   "metadata": {},
   "outputs": [
    {
     "data": {
      "text/plain": [
       "4"
      ]
     },
     "execution_count": 4,
     "metadata": {},
     "output_type": "execute_result"
    }
   ],
   "source": [
    "# Addition with Numbers\n",
    "2 + 2"
   ]
  },
  {
   "cell_type": "code",
   "execution_count": 5,
   "id": "0e7cac0e-50dd-45e3-be75-9f1402dff471",
   "metadata": {},
   "outputs": [
    {
     "data": {
      "text/plain": [
       "'22'"
      ]
     },
     "execution_count": 5,
     "metadata": {},
     "output_type": "execute_result"
    }
   ],
   "source": [
    "# Addition with Strings\n",
    "'2' + '2'"
   ]
  },
  {
   "cell_type": "code",
   "execution_count": 6,
   "id": "5a3b127a-9bff-461e-a2c8-41bf1c2c66ad",
   "metadata": {},
   "outputs": [
    {
     "data": {
      "text/plain": [
       "3748446546546"
      ]
     },
     "execution_count": 6,
     "metadata": {},
     "output_type": "execute_result"
    }
   ],
   "source": [
    "3424323423423 + 324123123123"
   ]
  },
  {
   "cell_type": "code",
   "execution_count": 7,
   "id": "b4db153f-42b6-49c5-845d-1e7529cf85d6",
   "metadata": {},
   "outputs": [
    {
     "data": {
      "text/plain": [
       "3"
      ]
     },
     "execution_count": 7,
     "metadata": {},
     "output_type": "execute_result"
    }
   ],
   "source": [
    "# Subtraction with Numbers\n",
    "5 - 2"
   ]
  },
  {
   "cell_type": "code",
   "execution_count": 8,
   "id": "c88dd2f6-d90d-4bfa-96da-948ac2b3b437",
   "metadata": {},
   "outputs": [
    {
     "data": {
      "text/plain": [
       "3100200300300"
      ]
     },
     "execution_count": 8,
     "metadata": {},
     "output_type": "execute_result"
    }
   ],
   "source": [
    "3424323423423 - 324123123123"
   ]
  },
  {
   "cell_type": "code",
   "execution_count": 9,
   "id": "ed537743-7956-4c86-825a-45f66472af18",
   "metadata": {},
   "outputs": [
    {
     "ename": "TypeError",
     "evalue": "unsupported operand type(s) for -: 'str' and 'str'",
     "output_type": "error",
     "traceback": [
      "\u001b[1;31m---------------------------------------------------------------------------\u001b[0m",
      "\u001b[1;31mTypeError\u001b[0m                                 Traceback (most recent call last)",
      "\u001b[1;32m~\\AppData\\Local\\Temp\\ipykernel_23916\\3175768898.py\u001b[0m in \u001b[0;36m<module>\u001b[1;34m\u001b[0m\n\u001b[0;32m      1\u001b[0m \u001b[1;31m# Subtraction with String\u001b[0m\u001b[1;33m\u001b[0m\u001b[1;33m\u001b[0m\u001b[1;33m\u001b[0m\u001b[0m\n\u001b[1;32m----> 2\u001b[1;33m \u001b[1;34m'2'\u001b[0m \u001b[1;33m-\u001b[0m \u001b[1;34m'2'\u001b[0m\u001b[1;33m\u001b[0m\u001b[1;33m\u001b[0m\u001b[0m\n\u001b[0m",
      "\u001b[1;31mTypeError\u001b[0m: unsupported operand type(s) for -: 'str' and 'str'"
     ]
    }
   ],
   "source": [
    "# Subtraction with String\n",
    "'2' - '2'"
   ]
  },
  {
   "cell_type": "code",
   "execution_count": 10,
   "id": "e55f2e6f-e0d5-4235-8bb4-d9b330081de8",
   "metadata": {},
   "outputs": [
    {
     "data": {
      "text/plain": [
       "8"
      ]
     },
     "execution_count": 10,
     "metadata": {},
     "output_type": "execute_result"
    }
   ],
   "source": [
    "# Multiplication with Numbers\n",
    "4 * 2"
   ]
  },
  {
   "cell_type": "code",
   "execution_count": 11,
   "id": "a90ba6b5-aa58-4a03-81f2-5cf89cb3e40d",
   "metadata": {},
   "outputs": [
    {
     "data": {
      "text/plain": [
       "11132113545562512004"
      ]
     },
     "execution_count": 11,
     "metadata": {},
     "output_type": "execute_result"
    }
   ],
   "source": [
    "324321421321 * 34324324"
   ]
  },
  {
   "cell_type": "code",
   "execution_count": 12,
   "id": "242ae4a3-a59d-4049-a07c-92732bcbadac",
   "metadata": {},
   "outputs": [
    {
     "ename": "TypeError",
     "evalue": "can't multiply sequence by non-int of type 'str'",
     "output_type": "error",
     "traceback": [
      "\u001b[1;31m---------------------------------------------------------------------------\u001b[0m",
      "\u001b[1;31mTypeError\u001b[0m                                 Traceback (most recent call last)",
      "\u001b[1;32m~\\AppData\\Local\\Temp\\ipykernel_23916\\1843453244.py\u001b[0m in \u001b[0;36m<module>\u001b[1;34m\u001b[0m\n\u001b[0;32m      1\u001b[0m \u001b[1;31m# Multiplication with String\u001b[0m\u001b[1;33m\u001b[0m\u001b[1;33m\u001b[0m\u001b[1;33m\u001b[0m\u001b[0m\n\u001b[1;32m----> 2\u001b[1;33m \u001b[1;34m'2'\u001b[0m \u001b[1;33m*\u001b[0m \u001b[1;34m'2'\u001b[0m\u001b[1;33m\u001b[0m\u001b[1;33m\u001b[0m\u001b[0m\n\u001b[0m",
      "\u001b[1;31mTypeError\u001b[0m: can't multiply sequence by non-int of type 'str'"
     ]
    }
   ],
   "source": [
    "# Multiplication with String\n",
    "'2' * '2'"
   ]
  },
  {
   "cell_type": "code",
   "execution_count": 14,
   "id": "e45b94c9-d293-4fed-8e36-0c23be614852",
   "metadata": {},
   "outputs": [
    {
     "data": {
      "text/plain": [
       "'22222'"
      ]
     },
     "execution_count": 14,
     "metadata": {},
     "output_type": "execute_result"
    }
   ],
   "source": [
    "'2' * 5"
   ]
  },
  {
   "cell_type": "code",
   "execution_count": 16,
   "id": "dff52a3b-92b8-42da-a85a-e7ad1740f0ef",
   "metadata": {},
   "outputs": [
    {
     "data": {
      "text/plain": [
       "'hellohello'"
      ]
     },
     "execution_count": 16,
     "metadata": {},
     "output_type": "execute_result"
    }
   ],
   "source": [
    "'hello' * 2"
   ]
  },
  {
   "cell_type": "code",
   "execution_count": 18,
   "id": "58ec193b-1b2b-4d48-a8eb-e8ad0b2795dd",
   "metadata": {},
   "outputs": [
    {
     "data": {
      "text/plain": [
       "5.0"
      ]
     },
     "execution_count": 18,
     "metadata": {},
     "output_type": "execute_result"
    }
   ],
   "source": [
    "# Normal-division with Numbers\n",
    "25 / 5"
   ]
  },
  {
   "cell_type": "code",
   "execution_count": 19,
   "id": "61787d3d-724c-459c-9502-9718a448f007",
   "metadata": {},
   "outputs": [
    {
     "data": {
      "text/plain": [
       "6.25"
      ]
     },
     "execution_count": 19,
     "metadata": {},
     "output_type": "execute_result"
    }
   ],
   "source": [
    "25 / 4"
   ]
  },
  {
   "cell_type": "code",
   "execution_count": 20,
   "id": "1853d004-a0a4-4692-90a7-9ddc3345ed26",
   "metadata": {},
   "outputs": [
    {
     "data": {
      "text/plain": [
       "12.5"
      ]
     },
     "execution_count": 20,
     "metadata": {},
     "output_type": "execute_result"
    }
   ],
   "source": [
    "25 / 2"
   ]
  },
  {
   "cell_type": "code",
   "execution_count": 21,
   "id": "69765a95-ba96-4351-a72e-03264cae3e31",
   "metadata": {},
   "outputs": [
    {
     "data": {
      "text/plain": [
       "12"
      ]
     },
     "execution_count": 21,
     "metadata": {},
     "output_type": "execute_result"
    }
   ],
   "source": [
    "# Integer-division with Numbers\n",
    "25 // 2"
   ]
  },
  {
   "cell_type": "code",
   "execution_count": 23,
   "id": "c5ced535-88f3-4302-9205-dfb4c69bf431",
   "metadata": {},
   "outputs": [
    {
     "data": {
      "text/plain": [
       "6.25"
      ]
     },
     "execution_count": 23,
     "metadata": {},
     "output_type": "execute_result"
    }
   ],
   "source": [
    "25 / 4.0"
   ]
  },
  {
   "cell_type": "code",
   "execution_count": 28,
   "id": "4ea98c6d-73a2-4896-936c-f0a2475b03e7",
   "metadata": {},
   "outputs": [
    {
     "data": {
      "text/plain": [
       "1"
      ]
     },
     "execution_count": 28,
     "metadata": {},
     "output_type": "execute_result"
    }
   ],
   "source": [
    "# Mod-division/Remainder with Numbers\n",
    "3 % 2"
   ]
  },
  {
   "cell_type": "code",
   "execution_count": 26,
   "id": "860d9f13-9502-49ea-893d-3d4c3d3d0614",
   "metadata": {},
   "outputs": [
    {
     "data": {
      "text/plain": [
       "0"
      ]
     },
     "execution_count": 26,
     "metadata": {},
     "output_type": "execute_result"
    }
   ],
   "source": [
    "4 % 2"
   ]
  },
  {
   "cell_type": "code",
   "execution_count": 29,
   "id": "cb12ab31-28e0-406e-9b5d-a7d9af07291c",
   "metadata": {},
   "outputs": [
    {
     "data": {
      "text/plain": [
       "1"
      ]
     },
     "execution_count": 29,
     "metadata": {},
     "output_type": "execute_result"
    }
   ],
   "source": [
    "31 % 2"
   ]
  },
  {
   "cell_type": "code",
   "execution_count": 30,
   "id": "50116054-9b42-4c47-8a69-afbee62e9a18",
   "metadata": {},
   "outputs": [
    {
     "data": {
      "text/plain": [
       "0"
      ]
     },
     "execution_count": 30,
     "metadata": {},
     "output_type": "execute_result"
    }
   ],
   "source": [
    "342312 % 2"
   ]
  },
  {
   "cell_type": "code",
   "execution_count": 32,
   "id": "2bd6646b-ba5e-4d6b-9ac0-934f2758dbd3",
   "metadata": {},
   "outputs": [
    {
     "ename": "TypeError",
     "evalue": "unsupported operand type(s) for /: 'str' and 'int'",
     "output_type": "error",
     "traceback": [
      "\u001b[1;31m---------------------------------------------------------------------------\u001b[0m",
      "\u001b[1;31mTypeError\u001b[0m                                 Traceback (most recent call last)",
      "\u001b[1;32m~\\AppData\\Local\\Temp\\ipykernel_23916\\2769674974.py\u001b[0m in \u001b[0;36m<module>\u001b[1;34m\u001b[0m\n\u001b[1;32m----> 1\u001b[1;33m \u001b[1;34m'23'\u001b[0m \u001b[1;33m/\u001b[0m \u001b[1;36m2\u001b[0m\u001b[1;33m\u001b[0m\u001b[1;33m\u001b[0m\u001b[0m\n\u001b[0m",
      "\u001b[1;31mTypeError\u001b[0m: unsupported operand type(s) for /: 'str' and 'int'"
     ]
    }
   ],
   "source": [
    "'23' / 2"
   ]
  },
  {
   "cell_type": "code",
   "execution_count": 33,
   "id": "e8a92e99-a283-4da9-b686-b861c81a903b",
   "metadata": {},
   "outputs": [
    {
     "data": {
      "text/plain": [
       "4"
      ]
     },
     "execution_count": 33,
     "metadata": {},
     "output_type": "execute_result"
    }
   ],
   "source": [
    "# Exponentiation with Numbers\n",
    "2 ** 2"
   ]
  },
  {
   "cell_type": "code",
   "execution_count": 34,
   "id": "f48d5350-1a06-4e70-b9c0-446eaec04e38",
   "metadata": {},
   "outputs": [
    {
     "data": {
      "text/plain": [
       "8"
      ]
     },
     "execution_count": 34,
     "metadata": {},
     "output_type": "execute_result"
    }
   ],
   "source": [
    "2 ** 3"
   ]
  },
  {
   "cell_type": "code",
   "execution_count": null,
   "id": "dc879983-5fe0-41c6-a53b-a2e4ba3fee82",
   "metadata": {},
   "outputs": [],
   "source": []
  },
  {
   "cell_type": "markdown",
   "id": "4483d498-3013-4e04-af27-6ebbb14a893d",
   "metadata": {},
   "source": [
    "# Lesson 02 \n",
    "##### 06.04.22"
   ]
  },
  {
   "cell_type": "markdown",
   "id": "256fde9a-cdc3-4785-b647-cb3c74339b04",
   "metadata": {},
   "source": [
    "# Variables and Types\n",
    "\n",
    "Common data type in Python\n",
    " - Numeric types\n",
    "     - Integer e.g `2, 30, 1, 40`\n",
    "     - Float e.g `2.1, 30.12, 40.23`\n",
    "     \n",
    " - String types\n",
    "     - Sequences and characters e.g `'Hello', 'x'`\n",
    "   \n",
    "- Type Conversion\n",
    "    - Implicit type conversion: Python performs type conversion implicitly\n",
    "    - Explicit type conversion: Python cannot perform type conversion, programmer has to be able to convert types manually.\n",
    "    \n",
    "    \n",
    "- Python inbuilt Type conversion Functions: y = f(x)\n",
    "    - Use `type(object)` to check the type of an object\n",
    "    - Use `str(int type)` to convert from int to str.\n",
    "    - Use `int(str type)` to convert from str to int.\n",
    "    \n",
    "Variables\n",
    "  - What/Why variables:\n",
    "      In the strict sense variables in python are a binding between names and values, names can go on to take new values. Variables are not direct assignment in a strict sense.\n",
    "      \n",
    "  - Naming variables"
   ]
  },
  {
   "cell_type": "code",
   "execution_count": 1,
   "id": "a3415fb2-31dd-4f24-a7d2-b6e838090ff3",
   "metadata": {},
   "outputs": [
    {
     "data": {
      "text/plain": [
       "60"
      ]
     },
     "execution_count": 1,
     "metadata": {},
     "output_type": "execute_result"
    }
   ],
   "source": [
    "20 * 3"
   ]
  },
  {
   "cell_type": "code",
   "execution_count": 2,
   "id": "b73c3eca",
   "metadata": {},
   "outputs": [
    {
     "data": {
      "text/plain": [
       "'22222222222222222222'"
      ]
     },
     "execution_count": 2,
     "metadata": {},
     "output_type": "execute_result"
    }
   ],
   "source": [
    "20 * '2'"
   ]
  },
  {
   "cell_type": "code",
   "execution_count": 3,
   "id": "ab5d4003",
   "metadata": {},
   "outputs": [
    {
     "data": {
      "text/plain": [
       "'HelloHelloHello'"
      ]
     },
     "execution_count": 3,
     "metadata": {},
     "output_type": "execute_result"
    }
   ],
   "source": [
    "'Hello' * 3"
   ]
  },
  {
   "cell_type": "code",
   "execution_count": 4,
   "id": "c1361eac",
   "metadata": {},
   "outputs": [
    {
     "ename": "TypeError",
     "evalue": "can't multiply sequence by non-int of type 'str'",
     "output_type": "error",
     "traceback": [
      "\u001b[1;31m---------------------------------------------------------------------------\u001b[0m",
      "\u001b[1;31mTypeError\u001b[0m                                 Traceback (most recent call last)",
      "\u001b[1;32m~\\AppData\\Local\\Temp\\ipykernel_10296\\261405584.py\u001b[0m in \u001b[0;36m<module>\u001b[1;34m\u001b[0m\n\u001b[1;32m----> 1\u001b[1;33m \u001b[1;34m'2'\u001b[0m \u001b[1;33m*\u001b[0m \u001b[1;34m'2'\u001b[0m\u001b[1;33m\u001b[0m\u001b[1;33m\u001b[0m\u001b[0m\n\u001b[0m",
      "\u001b[1;31mTypeError\u001b[0m: can't multiply sequence by non-int of type 'str'"
     ]
    }
   ],
   "source": [
    "'2' * '2'"
   ]
  },
  {
   "cell_type": "markdown",
   "id": "05601a29",
   "metadata": {},
   "source": [
    "Implicit type conversion"
   ]
  },
  {
   "cell_type": "code",
   "execution_count": 5,
   "id": "755439c1",
   "metadata": {},
   "outputs": [
    {
     "data": {
      "text/plain": [
       "1.3333333333333333"
      ]
     },
     "execution_count": 5,
     "metadata": {},
     "output_type": "execute_result"
    }
   ],
   "source": [
    "# If you try to do this\n",
    "4 / 3"
   ]
  },
  {
   "cell_type": "code",
   "execution_count": 6,
   "id": "c667379b",
   "metadata": {},
   "outputs": [
    {
     "data": {
      "text/plain": [
       "1.3333333333333333"
      ]
     },
     "execution_count": 6,
     "metadata": {},
     "output_type": "execute_result"
    }
   ],
   "source": [
    "# Python might do this\n",
    "4.0 / 3.0"
   ]
  },
  {
   "cell_type": "code",
   "execution_count": 8,
   "id": "c791ed1a",
   "metadata": {},
   "outputs": [
    {
     "data": {
      "text/plain": [
       "1.0"
      ]
     },
     "execution_count": 8,
     "metadata": {},
     "output_type": "execute_result"
    }
   ],
   "source": [
    "# This is you explicitly forcing the division type to be an integer division\n",
    "4.0 // 3.0"
   ]
  },
  {
   "cell_type": "code",
   "execution_count": null,
   "id": "7a978e81",
   "metadata": {},
   "outputs": [],
   "source": []
  },
  {
   "cell_type": "code",
   "execution_count": null,
   "id": "6b87a23e",
   "metadata": {},
   "outputs": [],
   "source": []
  },
  {
   "cell_type": "markdown",
   "id": "36afc726",
   "metadata": {},
   "source": [
    "Explicit type conversion"
   ]
  },
  {
   "cell_type": "code",
   "execution_count": 9,
   "id": "e78a758f",
   "metadata": {},
   "outputs": [
    {
     "data": {
      "text/plain": [
       "'22'"
      ]
     },
     "execution_count": 9,
     "metadata": {},
     "output_type": "execute_result"
    }
   ],
   "source": [
    "'2' + '2'"
   ]
  },
  {
   "cell_type": "code",
   "execution_count": 10,
   "id": "f2782e7f",
   "metadata": {},
   "outputs": [
    {
     "data": {
      "text/plain": [
       "str"
      ]
     },
     "execution_count": 10,
     "metadata": {},
     "output_type": "execute_result"
    }
   ],
   "source": [
    "type('2')"
   ]
  },
  {
   "cell_type": "code",
   "execution_count": 11,
   "id": "9bbef116",
   "metadata": {},
   "outputs": [
    {
     "data": {
      "text/plain": [
       "int"
      ]
     },
     "execution_count": 11,
     "metadata": {},
     "output_type": "execute_result"
    }
   ],
   "source": [
    "type(2)"
   ]
  },
  {
   "cell_type": "code",
   "execution_count": 12,
   "id": "30bb0440",
   "metadata": {},
   "outputs": [
    {
     "data": {
      "text/plain": [
       "int"
      ]
     },
     "execution_count": 12,
     "metadata": {},
     "output_type": "execute_result"
    }
   ],
   "source": [
    "type(2)"
   ]
  },
  {
   "cell_type": "code",
   "execution_count": 13,
   "id": "a262dd6d",
   "metadata": {},
   "outputs": [
    {
     "data": {
      "text/plain": [
       "int"
      ]
     },
     "execution_count": 13,
     "metadata": {},
     "output_type": "execute_result"
    }
   ],
   "source": [
    "type(int('2'))"
   ]
  },
  {
   "cell_type": "code",
   "execution_count": 15,
   "id": "6cb46496",
   "metadata": {},
   "outputs": [
    {
     "data": {
      "text/plain": [
       "'23'"
      ]
     },
     "execution_count": 15,
     "metadata": {},
     "output_type": "execute_result"
    }
   ],
   "source": [
    "'2' + '3'"
   ]
  },
  {
   "cell_type": "code",
   "execution_count": 14,
   "id": "fe266dea",
   "metadata": {},
   "outputs": [
    {
     "data": {
      "text/plain": [
       "5"
      ]
     },
     "execution_count": 14,
     "metadata": {},
     "output_type": "execute_result"
    }
   ],
   "source": [
    "int('2') + int('3')"
   ]
  },
  {
   "cell_type": "code",
   "execution_count": 16,
   "id": "0483eed7",
   "metadata": {},
   "outputs": [
    {
     "data": {
      "text/plain": [
       "4"
      ]
     },
     "execution_count": 16,
     "metadata": {},
     "output_type": "execute_result"
    }
   ],
   "source": [
    "2 + 2"
   ]
  },
  {
   "cell_type": "code",
   "execution_count": 17,
   "id": "5753a686",
   "metadata": {},
   "outputs": [
    {
     "data": {
      "text/plain": [
       "'22'"
      ]
     },
     "execution_count": 17,
     "metadata": {},
     "output_type": "execute_result"
    }
   ],
   "source": [
    "str(2) + str(2)"
   ]
  },
  {
   "cell_type": "code",
   "execution_count": 18,
   "id": "3e8a6d2c",
   "metadata": {},
   "outputs": [
    {
     "data": {
      "text/plain": [
       "'4'"
      ]
     },
     "execution_count": 18,
     "metadata": {},
     "output_type": "execute_result"
    }
   ],
   "source": [
    "str(2 + 2)"
   ]
  },
  {
   "cell_type": "code",
   "execution_count": 19,
   "id": "34ac66fb",
   "metadata": {},
   "outputs": [
    {
     "data": {
      "text/plain": [
       "'ThankGod'"
      ]
     },
     "execution_count": 19,
     "metadata": {},
     "output_type": "execute_result"
    }
   ],
   "source": [
    "'ThankGod'"
   ]
  },
  {
   "cell_type": "code",
   "execution_count": 20,
   "id": "4706c9af",
   "metadata": {},
   "outputs": [
    {
     "data": {
      "text/plain": [
       "'Jane'"
      ]
     },
     "execution_count": 20,
     "metadata": {},
     "output_type": "execute_result"
    }
   ],
   "source": [
    "'Jane'"
   ]
  },
  {
   "cell_type": "code",
   "execution_count": 21,
   "id": "a039413f",
   "metadata": {},
   "outputs": [],
   "source": [
    "hb = 'ThankGod'\n",
    "wn = 'Jane'"
   ]
  },
  {
   "cell_type": "code",
   "execution_count": 22,
   "id": "a11a9704",
   "metadata": {},
   "outputs": [
    {
     "data": {
      "text/plain": [
       "'ThankGod Jane'"
      ]
     },
     "execution_count": 22,
     "metadata": {},
     "output_type": "execute_result"
    }
   ],
   "source": [
    "hb + \" \" + wn"
   ]
  },
  {
   "cell_type": "markdown",
   "id": "db1e5d69",
   "metadata": {},
   "source": [
    "#a = b*c + d"
   ]
  },
  {
   "cell_type": "code",
   "execution_count": 23,
   "id": "907d04ce",
   "metadata": {},
   "outputs": [],
   "source": [
    "b = 3\n",
    "c = 2\n",
    "d = 5\n",
    "\n",
    "a = b*c + 5"
   ]
  },
  {
   "cell_type": "code",
   "execution_count": 24,
   "id": "2144665c",
   "metadata": {},
   "outputs": [
    {
     "data": {
      "text/plain": [
       "11"
      ]
     },
     "execution_count": 24,
     "metadata": {},
     "output_type": "execute_result"
    }
   ],
   "source": [
    "a"
   ]
  },
  {
   "cell_type": "code",
   "execution_count": 25,
   "id": "aff999e5",
   "metadata": {},
   "outputs": [
    {
     "ename": "SyntaxError",
     "evalue": "invalid syntax (233501309.py, line 1)",
     "output_type": "error",
     "traceback": [
      "\u001b[1;36m  File \u001b[1;32m\"C:\\Users\\egbet\\AppData\\Local\\Temp\\ipykernel_10296\\233501309.py\"\u001b[1;36m, line \u001b[1;32m1\u001b[0m\n\u001b[1;33m    first name = 'ThankGod'\u001b[0m\n\u001b[1;37m             ^\u001b[0m\n\u001b[1;31mSyntaxError\u001b[0m\u001b[1;31m:\u001b[0m invalid syntax\n"
     ]
    }
   ],
   "source": [
    "first name = 'ThankGod'"
   ]
  },
  {
   "cell_type": "code",
   "execution_count": 36,
   "id": "87844d01",
   "metadata": {},
   "outputs": [],
   "source": [
    "first_name = 'ThankGod'"
   ]
  },
  {
   "cell_type": "code",
   "execution_count": 37,
   "id": "181ea827",
   "metadata": {},
   "outputs": [],
   "source": [
    "second_name = 'Itua'"
   ]
  },
  {
   "cell_type": "code",
   "execution_count": 39,
   "id": "f8f1f05f",
   "metadata": {},
   "outputs": [
    {
     "data": {
      "text/plain": [
       "'ThankGod Itua'"
      ]
     },
     "execution_count": 39,
     "metadata": {},
     "output_type": "execute_result"
    }
   ],
   "source": [
    "full_name = first_name + ' ' + second_name\n",
    "full_name"
   ]
  },
  {
   "cell_type": "code",
   "execution_count": null,
   "id": "7262d294",
   "metadata": {},
   "outputs": [],
   "source": []
  },
  {
   "cell_type": "markdown",
   "id": "84b918bf",
   "metadata": {},
   "source": [
    "# Lesson 03 \n",
    "##### 08.04.22"
   ]
  },
  {
   "cell_type": "markdown",
   "id": "c6ee098f",
   "metadata": {},
   "source": [
    "## More on Variables and types\n",
    "\n",
    "- More on storing and manipulating values\n",
    "- Calling functions\n",
    "    - Reading input\n",
    "    - Displaying output/Output formatting/Working with string formats\n",
    "    - Import functions using maths package\n",
    "\n",
    "- Exercises\n",
    "- Weekend Assignments/Projects"
   ]
  },
  {
   "cell_type": "code",
   "execution_count": 1,
   "id": "a938e08f",
   "metadata": {},
   "outputs": [],
   "source": [
    "name = 'ThankGod'"
   ]
  },
  {
   "cell_type": "code",
   "execution_count": 2,
   "id": "8e88e33a",
   "metadata": {},
   "outputs": [],
   "source": [
    "x = 4"
   ]
  },
  {
   "cell_type": "code",
   "execution_count": 3,
   "id": "4c1daf23",
   "metadata": {},
   "outputs": [
    {
     "data": {
      "text/plain": [
       "4"
      ]
     },
     "execution_count": 3,
     "metadata": {},
     "output_type": "execute_result"
    }
   ],
   "source": [
    "x"
   ]
  },
  {
   "cell_type": "code",
   "execution_count": 4,
   "id": "daa58b01",
   "metadata": {},
   "outputs": [],
   "source": [
    "y = x + 3"
   ]
  },
  {
   "cell_type": "code",
   "execution_count": 5,
   "id": "b9a4bf42",
   "metadata": {},
   "outputs": [
    {
     "data": {
      "text/plain": [
       "7"
      ]
     },
     "execution_count": 5,
     "metadata": {},
     "output_type": "execute_result"
    }
   ],
   "source": [
    "y"
   ]
  },
  {
   "cell_type": "code",
   "execution_count": 6,
   "id": "f4799c4b",
   "metadata": {},
   "outputs": [],
   "source": [
    "user_name = 'ThankGod Itua'"
   ]
  },
  {
   "cell_type": "code",
   "execution_count": 7,
   "id": "1723228b",
   "metadata": {},
   "outputs": [],
   "source": [
    "friction_factor = 0.34"
   ]
  },
  {
   "cell_type": "markdown",
   "id": "a334275e",
   "metadata": {},
   "source": [
    "### Variable naming rules\n",
    "\n",
    "- Variables names most always begin with an alphabet. e.g `1plus2`\n",
    "- Compound variable names cannot be spaced. e.g `one plus two`\n",
    "    - Snake case naming convention e.g `one_plus_two`\n",
    "    - Camel case naming convention e.g `OnePlusTwo`\n",
    "- Use names that convey the meaning of what value the variable expects"
   ]
  },
  {
   "cell_type": "code",
   "execution_count": 8,
   "id": "a33a2041",
   "metadata": {},
   "outputs": [
    {
     "ename": "SyntaxError",
     "evalue": "invalid syntax (36478823.py, line 1)",
     "output_type": "error",
     "traceback": [
      "\u001b[1;36m  File \u001b[1;32m\"C:\\Users\\egbet\\AppData\\Local\\Temp\\ipykernel_17484\\36478823.py\"\u001b[1;36m, line \u001b[1;32m1\u001b[0m\n\u001b[1;33m    1plus2 = 1 + 2\u001b[0m\n\u001b[1;37m         ^\u001b[0m\n\u001b[1;31mSyntaxError\u001b[0m\u001b[1;31m:\u001b[0m invalid syntax\n"
     ]
    }
   ],
   "source": [
    "1plus2 = 1 + 2"
   ]
  },
  {
   "cell_type": "code",
   "execution_count": 9,
   "id": "bc01a2a4",
   "metadata": {},
   "outputs": [],
   "source": [
    "one_plus_two =  1 + 2"
   ]
  },
  {
   "cell_type": "code",
   "execution_count": 10,
   "id": "25cc055b",
   "metadata": {},
   "outputs": [
    {
     "ename": "SyntaxError",
     "evalue": "invalid syntax (3642639386.py, line 1)",
     "output_type": "error",
     "traceback": [
      "\u001b[1;36m  File \u001b[1;32m\"C:\\Users\\egbet\\AppData\\Local\\Temp\\ipykernel_17484\\3642639386.py\"\u001b[1;36m, line \u001b[1;32m1\u001b[0m\n\u001b[1;33m    one plus two = 1 + 2\u001b[0m\n\u001b[1;37m           ^\u001b[0m\n\u001b[1;31mSyntaxError\u001b[0m\u001b[1;31m:\u001b[0m invalid syntax\n"
     ]
    }
   ],
   "source": [
    "one plus two = 1 + 2"
   ]
  },
  {
   "cell_type": "code",
   "execution_count": 11,
   "id": "3abc4475",
   "metadata": {},
   "outputs": [],
   "source": [
    "name = 'John'\n",
    "age = 'Great' # age = 21\n",
    "address = 23 # not enough information"
   ]
  },
  {
   "cell_type": "code",
   "execution_count": null,
   "id": "cc652bdc",
   "metadata": {},
   "outputs": [],
   "source": []
  },
  {
   "cell_type": "markdown",
   "id": "8c80cc48",
   "metadata": {},
   "source": [
    "### Forms/Types of Variable declaration/ Reading Inputs\n",
    "\n",
    "- Static declaration: This is mostly a direct binding between variables names and values. e.g `age = 23`\n",
    "\n",
    "- Dynamic declaration: This can mostly work when the programmer has not clear idea what the value for a variable should be.\n",
    "    - Use the `input()` this takes in a string as user promt and then returns a string as output.\n",
    "\n",
    "`Note: Use Shift+Tab to get short documentation string about a function`"
   ]
  },
  {
   "cell_type": "code",
   "execution_count": 12,
   "id": "2929aec4",
   "metadata": {},
   "outputs": [
    {
     "data": {
      "text/plain": [
       "str"
      ]
     },
     "execution_count": 12,
     "metadata": {},
     "output_type": "execute_result"
    }
   ],
   "source": [
    "type(age)"
   ]
  },
  {
   "cell_type": "code",
   "execution_count": 13,
   "id": "4a3b3445",
   "metadata": {},
   "outputs": [
    {
     "name": "stdout",
     "output_type": "stream",
     "text": [
      "Enter your age21\n"
     ]
    },
    {
     "data": {
      "text/plain": [
       "'21'"
      ]
     },
     "execution_count": 13,
     "metadata": {},
     "output_type": "execute_result"
    }
   ],
   "source": [
    "input('Enter your age')"
   ]
  },
  {
   "cell_type": "code",
   "execution_count": 16,
   "id": "b6533806",
   "metadata": {},
   "outputs": [
    {
     "name": "stdout",
     "output_type": "stream",
     "text": [
      "Enter your age32\n"
     ]
    }
   ],
   "source": [
    "age = input('Enter your age')"
   ]
  },
  {
   "cell_type": "code",
   "execution_count": 17,
   "id": "4622bb42",
   "metadata": {},
   "outputs": [
    {
     "data": {
      "text/plain": [
       "'32'"
      ]
     },
     "execution_count": 17,
     "metadata": {},
     "output_type": "execute_result"
    }
   ],
   "source": [
    "age"
   ]
  },
  {
   "cell_type": "code",
   "execution_count": 18,
   "id": "c1702687",
   "metadata": {},
   "outputs": [],
   "source": [
    "age = 21"
   ]
  },
  {
   "cell_type": "code",
   "execution_count": 19,
   "id": "0b126c1f",
   "metadata": {},
   "outputs": [],
   "source": [
    "age = 32"
   ]
  },
  {
   "cell_type": "code",
   "execution_count": 20,
   "id": "49d1139e",
   "metadata": {},
   "outputs": [
    {
     "name": "stdout",
     "output_type": "stream",
     "text": [
      "Enter your NameJohn\n"
     ]
    }
   ],
   "source": [
    "age = input('Enter your Name')"
   ]
  },
  {
   "cell_type": "code",
   "execution_count": 22,
   "id": "6340e021",
   "metadata": {},
   "outputs": [
    {
     "name": "stdout",
     "output_type": "stream",
     "text": [
      "Enter your Name: John\n"
     ]
    }
   ],
   "source": [
    "name = input('Enter your Name: ')"
   ]
  },
  {
   "cell_type": "code",
   "execution_count": 23,
   "id": "dc667bbe",
   "metadata": {},
   "outputs": [
    {
     "data": {
      "text/plain": [
       "'John'"
      ]
     },
     "execution_count": 23,
     "metadata": {},
     "output_type": "execute_result"
    }
   ],
   "source": [
    "name"
   ]
  },
  {
   "cell_type": "code",
   "execution_count": null,
   "id": "bcd68040",
   "metadata": {},
   "outputs": [],
   "source": []
  },
  {
   "cell_type": "markdown",
   "id": "d66cfda0",
   "metadata": {},
   "source": [
    "### Displaying outputs\n",
    "\n",
    "- `print()` function is a python inbuilt function for managing user print output. \n",
    "\n",
    "- `print(f'')` format string type\n",
    "- `print(\"\".format())` an alternative\n",
    "\n",
    "Hints:\n",
    " - Use a/A to add a new cell above\n",
    " - b/B to add a new cell below\n",
    " - use m/M to convert from code to markdown\n",
    " - use y to convert from markdown to code\n",
    " - use H to access keyboard shortcuts\n",
    " - use keyboard `Tab -><-` to automatically complete variable names that are already stored in memory."
   ]
  },
  {
   "cell_type": "code",
   "execution_count": 25,
   "id": "573861af",
   "metadata": {},
   "outputs": [
    {
     "name": "stdout",
     "output_type": "stream",
     "text": [
      "Hello World!!!\n"
     ]
    }
   ],
   "source": [
    "print('Hello World!!!')"
   ]
  },
  {
   "cell_type": "code",
   "execution_count": 26,
   "id": "5fae0164",
   "metadata": {},
   "outputs": [
    {
     "data": {
      "text/plain": [
       "'Hello World!!!'"
      ]
     },
     "execution_count": 26,
     "metadata": {},
     "output_type": "execute_result"
    }
   ],
   "source": [
    "'Hello World!!!'"
   ]
  },
  {
   "cell_type": "code",
   "execution_count": 27,
   "id": "ade4e024",
   "metadata": {},
   "outputs": [
    {
     "name": "stdout",
     "output_type": "stream",
     "text": [
      "Hello World I am New To Python\n"
     ]
    }
   ],
   "source": [
    "print('Hello', 'World', 'I', 'am', 'New', 'To', 'Python')"
   ]
  },
  {
   "cell_type": "code",
   "execution_count": 28,
   "id": "33c0c93e",
   "metadata": {},
   "outputs": [
    {
     "name": "stdout",
     "output_type": "stream",
     "text": [
      "John Answer\n"
     ]
    }
   ],
   "source": [
    "first_name = 'John'\n",
    "second_name = 'Answer'\n",
    "\n",
    "print(first_name, second_name)"
   ]
  },
  {
   "cell_type": "code",
   "execution_count": 29,
   "id": "5c1da0dc",
   "metadata": {},
   "outputs": [
    {
     "name": "stdout",
     "output_type": "stream",
     "text": [
      "John Answer John Answer\n"
     ]
    }
   ],
   "source": [
    "print('John', 'Answer', first_name, second_name)"
   ]
  },
  {
   "cell_type": "code",
   "execution_count": 30,
   "id": "22ea290f",
   "metadata": {},
   "outputs": [
    {
     "name": "stdout",
     "output_type": "stream",
     "text": [
      "John Answer first_name second_name\n"
     ]
    }
   ],
   "source": [
    "print('John', 'Answer', 'first_name', 'second_name')"
   ]
  },
  {
   "cell_type": "code",
   "execution_count": 31,
   "id": "da1803ee",
   "metadata": {},
   "outputs": [],
   "source": [
    "create_new_data = 'ccl_spe_data_base'"
   ]
  },
  {
   "cell_type": "code",
   "execution_count": 33,
   "id": "e7602d4a",
   "metadata": {},
   "outputs": [
    {
     "name": "stdout",
     "output_type": "stream",
     "text": [
      "ccl_spe_data_base ccl_spe_data_base 23\n"
     ]
    }
   ],
   "source": [
    "print(create_new_data, 'ccl_spe_data_base', 23)"
   ]
  },
  {
   "cell_type": "code",
   "execution_count": 34,
   "id": "ded4da6e",
   "metadata": {},
   "outputs": [
    {
     "data": {
      "text/plain": [
       "'JohnAnswer'"
      ]
     },
     "execution_count": 34,
     "metadata": {},
     "output_type": "execute_result"
    }
   ],
   "source": [
    "'John' + 'Answer'"
   ]
  },
  {
   "cell_type": "code",
   "execution_count": 35,
   "id": "cf93dd5d",
   "metadata": {},
   "outputs": [
    {
     "name": "stdout",
     "output_type": "stream",
     "text": [
      "JohnAnswer\n"
     ]
    }
   ],
   "source": [
    "print('John' + 'Answer')"
   ]
  },
  {
   "cell_type": "code",
   "execution_count": 39,
   "id": "8ffb5b17",
   "metadata": {},
   "outputs": [
    {
     "name": "stdout",
     "output_type": "stream",
     "text": [
      "John Answer\n"
     ]
    }
   ],
   "source": [
    "print('John','Answer')"
   ]
  },
  {
   "cell_type": "code",
   "execution_count": 38,
   "id": "3d28d294",
   "metadata": {},
   "outputs": [
    {
     "name": "stdout",
     "output_type": "stream",
     "text": [
      "John Answer\n"
     ]
    }
   ],
   "source": [
    "print('John' + \" \" + 'Answer')"
   ]
  },
  {
   "cell_type": "code",
   "execution_count": 40,
   "id": "e16ef513",
   "metadata": {},
   "outputs": [],
   "source": [
    "#yourbackground('name', 'location', 'family home address', 'relatives', ...)"
   ]
  },
  {
   "cell_type": "code",
   "execution_count": 53,
   "id": "36025b97",
   "metadata": {},
   "outputs": [
    {
     "name": "stdout",
     "output_type": "stream",
     "text": [
      "JohnAnswer\tJohn Question\n"
     ]
    }
   ],
   "source": [
    "print('John','Answer', sep='', end='\\t') # \\n is a new line and \\t is a tab\n",
    "print('John', 'Question')"
   ]
  },
  {
   "cell_type": "code",
   "execution_count": 48,
   "id": "b528dacf",
   "metadata": {},
   "outputs": [
    {
     "name": "stdout",
     "output_type": "stream",
     "text": [
      "4\n",
      "6\n"
     ]
    }
   ],
   "source": [
    "print(2 + 2)\n",
    "print(3 + 3)"
   ]
  },
  {
   "cell_type": "markdown",
   "id": "765d8bb7",
   "metadata": {},
   "source": [
    "### Using the math package\n",
    "\n",
    "- import math\n",
    "- from math import sqrt or pow\n",
    "- from math import *"
   ]
  },
  {
   "cell_type": "code",
   "execution_count": 54,
   "id": "1e635800",
   "metadata": {},
   "outputs": [
    {
     "ename": "NameError",
     "evalue": "name 'sqrt' is not defined",
     "output_type": "error",
     "traceback": [
      "\u001b[1;31m---------------------------------------------------------------------------\u001b[0m",
      "\u001b[1;31mNameError\u001b[0m                                 Traceback (most recent call last)",
      "\u001b[1;32m~\\AppData\\Local\\Temp\\ipykernel_17484\\3579318052.py\u001b[0m in \u001b[0;36m<module>\u001b[1;34m\u001b[0m\n\u001b[0;32m      3\u001b[0m \u001b[0mc\u001b[0m \u001b[1;33m=\u001b[0m \u001b[1;36m3\u001b[0m\u001b[1;33m\u001b[0m\u001b[1;33m\u001b[0m\u001b[0m\n\u001b[0;32m      4\u001b[0m \u001b[1;33m\u001b[0m\u001b[0m\n\u001b[1;32m----> 5\u001b[1;33m \u001b[0mdet\u001b[0m \u001b[1;33m=\u001b[0m \u001b[0msqrt\u001b[0m\u001b[1;33m(\u001b[0m\u001b[0mb\u001b[0m\u001b[1;33m**\u001b[0m\u001b[1;36m2\u001b[0m \u001b[1;33m-\u001b[0m \u001b[1;36m4\u001b[0m \u001b[1;33m*\u001b[0m \u001b[0ma\u001b[0m \u001b[1;33m*\u001b[0m \u001b[0mc\u001b[0m\u001b[1;33m)\u001b[0m\u001b[1;33m\u001b[0m\u001b[1;33m\u001b[0m\u001b[0m\n\u001b[0m",
      "\u001b[1;31mNameError\u001b[0m: name 'sqrt' is not defined"
     ]
    }
   ],
   "source": [
    "a = 1\n",
    "b = 2\n",
    "c = 3\n",
    "\n",
    "det = sqrt(b**2 - 4 * a * c)"
   ]
  },
  {
   "cell_type": "code",
   "execution_count": null,
   "id": "04cf7600",
   "metadata": {},
   "outputs": [],
   "source": []
  },
  {
   "cell_type": "markdown",
   "id": "5653333c",
   "metadata": {},
   "source": [
    "#### Common Python Errors\n",
    "\n",
    "- `Type Error`: Inconsistency in python data type usage\n",
    "- `Syntax Error`: \"\"\" in python syntax or language usage\n",
    "- `Name Error`: \"\"\" in using keyword arguments or names that dont exist\n",
    "- `ModuleNotFoundError`: \"\"\" trying to import what doesnt exit\n",
    "- `ValueError`: Logical inconsistency in the expected input value to a function parameter."
   ]
  },
  {
   "cell_type": "code",
   "execution_count": 55,
   "id": "0347807b",
   "metadata": {},
   "outputs": [
    {
     "ename": "ModuleNotFoundError",
     "evalue": "No module named 'mathematics'",
     "output_type": "error",
     "traceback": [
      "\u001b[1;31m---------------------------------------------------------------------------\u001b[0m",
      "\u001b[1;31mModuleNotFoundError\u001b[0m                       Traceback (most recent call last)",
      "\u001b[1;32m~\\AppData\\Local\\Temp\\ipykernel_17484\\4277354855.py\u001b[0m in \u001b[0;36m<module>\u001b[1;34m\u001b[0m\n\u001b[1;32m----> 1\u001b[1;33m \u001b[1;32mimport\u001b[0m \u001b[0mmathematics\u001b[0m\u001b[1;33m\u001b[0m\u001b[1;33m\u001b[0m\u001b[0m\n\u001b[0m",
      "\u001b[1;31mModuleNotFoundError\u001b[0m: No module named 'mathematics'"
     ]
    }
   ],
   "source": [
    "import mathematics "
   ]
  },
  {
   "cell_type": "code",
   "execution_count": 56,
   "id": "4370ed3b",
   "metadata": {},
   "outputs": [],
   "source": [
    "import math"
   ]
  },
  {
   "cell_type": "code",
   "execution_count": 57,
   "id": "d90b5a2f",
   "metadata": {},
   "outputs": [
    {
     "ename": "ValueError",
     "evalue": "math domain error",
     "output_type": "error",
     "traceback": [
      "\u001b[1;31m---------------------------------------------------------------------------\u001b[0m",
      "\u001b[1;31mValueError\u001b[0m                                Traceback (most recent call last)",
      "\u001b[1;32m~\\AppData\\Local\\Temp\\ipykernel_17484\\3546392009.py\u001b[0m in \u001b[0;36m<module>\u001b[1;34m\u001b[0m\n\u001b[1;32m----> 1\u001b[1;33m \u001b[0mmath\u001b[0m\u001b[1;33m.\u001b[0m\u001b[0msqrt\u001b[0m\u001b[1;33m(\u001b[0m\u001b[0mb\u001b[0m\u001b[1;33m**\u001b[0m\u001b[1;36m2\u001b[0m \u001b[1;33m-\u001b[0m \u001b[1;36m4\u001b[0m \u001b[1;33m*\u001b[0m \u001b[0ma\u001b[0m \u001b[1;33m*\u001b[0m \u001b[0mc\u001b[0m\u001b[1;33m)\u001b[0m\u001b[1;33m\u001b[0m\u001b[1;33m\u001b[0m\u001b[0m\n\u001b[0m",
      "\u001b[1;31mValueError\u001b[0m: math domain error"
     ]
    }
   ],
   "source": [
    "math.sqrt(b**2 - 4 * a * c)"
   ]
  },
  {
   "cell_type": "code",
   "execution_count": 59,
   "id": "fab0e1c2",
   "metadata": {},
   "outputs": [
    {
     "ename": "NameError",
     "evalue": "name 'sqrt' is not defined",
     "output_type": "error",
     "traceback": [
      "\u001b[1;31m---------------------------------------------------------------------------\u001b[0m",
      "\u001b[1;31mNameError\u001b[0m                                 Traceback (most recent call last)",
      "\u001b[1;32m~\\AppData\\Local\\Temp\\ipykernel_17484\\2862824164.py\u001b[0m in \u001b[0;36m<module>\u001b[1;34m\u001b[0m\n\u001b[0;32m      1\u001b[0m \u001b[1;32mimport\u001b[0m \u001b[0mmath\u001b[0m\u001b[1;33m\u001b[0m\u001b[1;33m\u001b[0m\u001b[0m\n\u001b[1;32m----> 2\u001b[1;33m \u001b[0msqrt\u001b[0m\u001b[1;33m(\u001b[0m\u001b[0mb\u001b[0m\u001b[1;33m**\u001b[0m\u001b[1;36m2\u001b[0m \u001b[1;33m-\u001b[0m \u001b[1;36m4\u001b[0m \u001b[1;33m*\u001b[0m \u001b[0ma\u001b[0m \u001b[1;33m*\u001b[0m \u001b[0mc\u001b[0m\u001b[1;33m)\u001b[0m\u001b[1;33m\u001b[0m\u001b[1;33m\u001b[0m\u001b[0m\n\u001b[0m",
      "\u001b[1;31mNameError\u001b[0m: name 'sqrt' is not defined"
     ]
    }
   ],
   "source": [
    "import math\n",
    "sqrt(b**2 - 4 * a * c)"
   ]
  },
  {
   "cell_type": "code",
   "execution_count": 63,
   "id": "356aae1b",
   "metadata": {},
   "outputs": [],
   "source": [
    "from math import sqrt"
   ]
  },
  {
   "cell_type": "code",
   "execution_count": 64,
   "id": "95ecc59d",
   "metadata": {},
   "outputs": [
    {
     "ename": "ValueError",
     "evalue": "math domain error",
     "output_type": "error",
     "traceback": [
      "\u001b[1;31m---------------------------------------------------------------------------\u001b[0m",
      "\u001b[1;31mValueError\u001b[0m                                Traceback (most recent call last)",
      "\u001b[1;32m~\\AppData\\Local\\Temp\\ipykernel_17484\\3900987977.py\u001b[0m in \u001b[0;36m<module>\u001b[1;34m\u001b[0m\n\u001b[0;32m      1\u001b[0m \u001b[0mx\u001b[0m \u001b[1;33m=\u001b[0m \u001b[0mb\u001b[0m\u001b[1;33m**\u001b[0m\u001b[1;36m2\u001b[0m \u001b[1;33m-\u001b[0m \u001b[1;36m4\u001b[0m \u001b[1;33m*\u001b[0m \u001b[0ma\u001b[0m \u001b[1;33m*\u001b[0m \u001b[0mc\u001b[0m\u001b[1;33m\u001b[0m\u001b[1;33m\u001b[0m\u001b[0m\n\u001b[1;32m----> 2\u001b[1;33m \u001b[0msqrt\u001b[0m\u001b[1;33m(\u001b[0m\u001b[0mx\u001b[0m\u001b[1;33m)\u001b[0m\u001b[1;33m\u001b[0m\u001b[1;33m\u001b[0m\u001b[0m\n\u001b[0m",
      "\u001b[1;31mValueError\u001b[0m: math domain error"
     ]
    }
   ],
   "source": [
    "x = b**2 - 4 * a * c\n",
    "sqrt(x)"
   ]
  },
  {
   "cell_type": "code",
   "execution_count": 66,
   "id": "4f0a9f4e",
   "metadata": {},
   "outputs": [
    {
     "name": "stdout",
     "output_type": "stream",
     "text": [
      "-8\n"
     ]
    }
   ],
   "source": [
    "a = 1\n",
    "b = 2\n",
    "c = 3\n",
    "\n",
    "x = b**2 - 4 * a * c\n",
    "print(x)"
   ]
  },
  {
   "cell_type": "code",
   "execution_count": 65,
   "id": "25a06e75",
   "metadata": {},
   "outputs": [
    {
     "data": {
      "text/plain": [
       "2.0"
      ]
     },
     "execution_count": 65,
     "metadata": {},
     "output_type": "execute_result"
    }
   ],
   "source": [
    "math.sqrt(4)"
   ]
  },
  {
   "cell_type": "code",
   "execution_count": 67,
   "id": "980dd3d3",
   "metadata": {},
   "outputs": [
    {
     "ename": "ValueError",
     "evalue": "math domain error",
     "output_type": "error",
     "traceback": [
      "\u001b[1;31m---------------------------------------------------------------------------\u001b[0m",
      "\u001b[1;31mValueError\u001b[0m                                Traceback (most recent call last)",
      "\u001b[1;32m~\\AppData\\Local\\Temp\\ipykernel_17484\\4284878879.py\u001b[0m in \u001b[0;36m<module>\u001b[1;34m\u001b[0m\n\u001b[1;32m----> 1\u001b[1;33m \u001b[0mmath\u001b[0m\u001b[1;33m.\u001b[0m\u001b[0msqrt\u001b[0m\u001b[1;33m(\u001b[0m\u001b[1;33m-\u001b[0m\u001b[1;36m8\u001b[0m\u001b[1;33m)\u001b[0m\u001b[1;33m\u001b[0m\u001b[1;33m\u001b[0m\u001b[0m\n\u001b[0m",
      "\u001b[1;31mValueError\u001b[0m: math domain error"
     ]
    }
   ],
   "source": [
    "math.sqrt(-8)"
   ]
  },
  {
   "cell_type": "code",
   "execution_count": 68,
   "id": "55997a3a",
   "metadata": {},
   "outputs": [
    {
     "data": {
      "text/plain": [
       "7.38905609893065"
      ]
     },
     "execution_count": 68,
     "metadata": {},
     "output_type": "execute_result"
    }
   ],
   "source": [
    "math.exp(2)"
   ]
  },
  {
   "cell_type": "code",
   "execution_count": 70,
   "id": "a62c6994",
   "metadata": {},
   "outputs": [],
   "source": [
    "y = round(math.exp(2), 3)"
   ]
  },
  {
   "cell_type": "code",
   "execution_count": 72,
   "id": "f97f4140",
   "metadata": {},
   "outputs": [
    {
     "name": "stdout",
     "output_type": "stream",
     "text": [
      "The output of using round on maths.exp is 7.389\n"
     ]
    }
   ],
   "source": [
    "print('The output of using round on maths.exp is ' + str(y))"
   ]
  },
  {
   "cell_type": "code",
   "execution_count": null,
   "id": "f8ddc52b",
   "metadata": {},
   "outputs": [],
   "source": [
    "print('The output of using round on maths.exp is ' + str(y))"
   ]
  },
  {
   "cell_type": "code",
   "execution_count": 76,
   "id": "a8cb2571",
   "metadata": {},
   "outputs": [
    {
     "data": {
      "text/plain": [
       "'the game is start at 3 pm, ends at 4 pm'"
      ]
     },
     "execution_count": 76,
     "metadata": {},
     "output_type": "execute_result"
    }
   ],
   "source": [
    "'the game is start at {0}, ends at {1}'.format('3 pm', '4 pm')"
   ]
  },
  {
   "cell_type": "code",
   "execution_count": 80,
   "id": "9115f7e9",
   "metadata": {},
   "outputs": [
    {
     "name": "stdout",
     "output_type": "stream",
     "text": [
      "the game start at 3 pm, ends at 4 pm\n"
     ]
    }
   ],
   "source": [
    "print('the game start at {}, ends at {}'.format('3 pm', '4 pm'))"
   ]
  },
  {
   "cell_type": "code",
   "execution_count": 83,
   "id": "bd1ea863",
   "metadata": {},
   "outputs": [
    {
     "name": "stdout",
     "output_type": "stream",
     "text": [
      "Enter start time: 3 pm\n",
      "Enter stop time: 4 pm\n",
      "the game start at 3 pm, ends at 4 pm\n"
     ]
    }
   ],
   "source": [
    "start_time = input('Enter start time: ')\n",
    "stop_time = input('Enter stop time: ')\n",
    "\n",
    "print('the game start at {}, ends at {}'.format(start_time, stop_time))"
   ]
  },
  {
   "cell_type": "code",
   "execution_count": 84,
   "id": "bea2a13a",
   "metadata": {},
   "outputs": [
    {
     "name": "stdout",
     "output_type": "stream",
     "text": [
      "the game start at {start_time}, ends at {stop_time}\n"
     ]
    }
   ],
   "source": [
    "print('the game start at {start_time}, ends at {stop_time}')"
   ]
  },
  {
   "cell_type": "code",
   "execution_count": 85,
   "id": "1aff8c17",
   "metadata": {},
   "outputs": [
    {
     "name": "stdout",
     "output_type": "stream",
     "text": [
      "the game start at 3 pm, ends at 4 pm\n"
     ]
    }
   ],
   "source": [
    "print(f'the game start at {start_time}, ends at {stop_time}')"
   ]
  },
  {
   "cell_type": "code",
   "execution_count": null,
   "id": "f430ba2e",
   "metadata": {},
   "outputs": [],
   "source": []
  },
  {
   "cell_type": "code",
   "execution_count": 90,
   "id": "4dbb9ae9",
   "metadata": {},
   "outputs": [
    {
     "name": "stdout",
     "output_type": "stream",
     "text": [
      "Enter current age: 21\n",
      "You will be 26 in 5 years time\n"
     ]
    }
   ],
   "source": [
    "current_age = int(input('Enter current age: '))\n",
    "print(f'You will be {current_age + 5} in 5 years time')"
   ]
  },
  {
   "cell_type": "code",
   "execution_count": 91,
   "id": "203c7c20",
   "metadata": {},
   "outputs": [
    {
     "data": {
      "text/plain": [
       "'my name is John'"
      ]
     },
     "execution_count": 91,
     "metadata": {},
     "output_type": "execute_result"
    }
   ],
   "source": [
    "'my name is {}'.format('John')"
   ]
  },
  {
   "cell_type": "code",
   "execution_count": 100,
   "id": "8eb74449",
   "metadata": {},
   "outputs": [
    {
     "data": {
      "text/plain": [
       "'my name is John'"
      ]
     },
     "execution_count": 100,
     "metadata": {},
     "output_type": "execute_result"
    }
   ],
   "source": [
    "name = 'John'\n",
    "f'my name is {name}'"
   ]
  },
  {
   "cell_type": "code",
   "execution_count": 95,
   "id": "2b207c6f",
   "metadata": {},
   "outputs": [
    {
     "data": {
      "text/plain": [
       "\"Hello John, The teacher said 'class today starts at 9am'\""
      ]
     },
     "execution_count": 95,
     "metadata": {},
     "output_type": "execute_result"
    }
   ],
   "source": [
    "\"Hello John, The teacher said 'class today starts at 9am'\""
   ]
  },
  {
   "cell_type": "code",
   "execution_count": 96,
   "id": "1747cc0e",
   "metadata": {},
   "outputs": [
    {
     "ename": "SyntaxError",
     "evalue": "invalid syntax (254408077.py, line 1)",
     "output_type": "error",
     "traceback": [
      "\u001b[1;36m  File \u001b[1;32m\"C:\\Users\\egbet\\AppData\\Local\\Temp\\ipykernel_17484\\254408077.py\"\u001b[1;36m, line \u001b[1;32m1\u001b[0m\n\u001b[1;33m    'Hello John, The teacher said 'class today starts at 9am''\u001b[0m\n\u001b[1;37m                                       ^\u001b[0m\n\u001b[1;31mSyntaxError\u001b[0m\u001b[1;31m:\u001b[0m invalid syntax\n"
     ]
    }
   ],
   "source": [
    "'Hello John, The teacher said 'class today starts at 9am''"
   ]
  },
  {
   "cell_type": "code",
   "execution_count": null,
   "id": "c21354d4",
   "metadata": {},
   "outputs": [],
   "source": [
    "name = 'John'\n",
    "f'my name is {name}'"
   ]
  },
  {
   "cell_type": "code",
   "execution_count": 99,
   "id": "51f96572",
   "metadata": {},
   "outputs": [
    {
     "data": {
      "text/plain": [
       "'my name is John'"
      ]
     },
     "execution_count": 99,
     "metadata": {},
     "output_type": "execute_result"
    }
   ],
   "source": [
    "f\"my name is {'John'}\""
   ]
  },
  {
   "cell_type": "code",
   "execution_count": 101,
   "id": "52d12979",
   "metadata": {},
   "outputs": [
    {
     "name": "stdout",
     "output_type": "stream",
     "text": [
      "my name is John\n"
     ]
    }
   ],
   "source": [
    "print(f\"my name is {'John'}\")"
   ]
  },
  {
   "cell_type": "code",
   "execution_count": null,
   "id": "c4d64cb0",
   "metadata": {},
   "outputs": [],
   "source": []
  }
 ],
 "metadata": {
  "kernelspec": {
   "display_name": "Python 3 (ipykernel)",
   "language": "python",
   "name": "python3"
  },
  "language_info": {
   "codemirror_mode": {
    "name": "ipython",
    "version": 3
   },
   "file_extension": ".py",
   "mimetype": "text/x-python",
   "name": "python",
   "nbconvert_exporter": "python",
   "pygments_lexer": "ipython3",
   "version": "3.7.7"
  }
 },
 "nbformat": 4,
 "nbformat_minor": 5
}
